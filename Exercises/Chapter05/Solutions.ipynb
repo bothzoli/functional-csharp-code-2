{
 "cells": [
  {
   "cell_type": "code",
   "execution_count": null,
   "metadata": {
    "dotnet_interactive": {
     "language": "csharp"
    },
    "vscode": {
     "languageId": "dotnet-interactive.csharp"
    }
   },
   "outputs": [],
   "source": [
    "#r \"nuget: LaYumba.Functional\""
   ]
  },
  {
   "cell_type": "markdown",
   "metadata": {},
   "source": [
    "# Exercises\n",
    "\n",
    "## 1.\n",
    "Write a generic Parse function that takes a string and parses it as a value of an enum.\n",
    "It should be usable as follows:\n",
    "\n",
    "```csharp\n",
    "Enum.Parse<DayOfWeek>(\"Friday\") // => Some(DayOfWeek.Friday)\n",
    "Enum.Parse<DayOfWeek>(\"Freeday\") // => None\n",
    "```"
   ]
  },
  {
   "cell_type": "code",
   "execution_count": null,
   "metadata": {
    "dotnet_interactive": {
     "language": "csharp"
    },
    "vscode": {
     "languageId": "dotnet-interactive.csharp"
    }
   },
   "outputs": [],
   "source": [
    "using LaYumba.Functional;\n",
    "using static LaYumba.Functional.F;\n",
    "\n",
    "Option<T> Parse<T>(string s) where T : struct\n",
    "    => System.Enum.TryParse(s, out T t) ? Some(t) : None;\n",
    "\n",
    "display(Parse<System.DayOfWeek>(\"Friday\"));\n",
    "display(Parse<System.DayOfWeek>(\"Freeday\"));"
   ]
  },
  {
   "cell_type": "markdown",
   "metadata": {},
   "source": [
    "## 2.\n",
    "Write a Lookup function that takes an IEnumerable and a predicate and returns the first element in the IEnumerable that matches the predicate or None,\n",
    "if no matching element is found. Write its signature in arrow notation:\n",
    "\n",
    "```csharp\n",
    "bool isOdd(int i) => i % 2 == 1;\n",
    "new List<int>().Lookup(isOdd) // => None\n",
    "new List<int> { 1 }.Lookup(isOdd) // => Some(1)\n",
    "```"
   ]
  },
  {
   "cell_type": "code",
   "execution_count": null,
   "metadata": {
    "dotnet_interactive": {
     "language": "csharp"
    },
    "vscode": {
     "languageId": "dotnet-interactive.csharp"
    }
   },
   "outputs": [],
   "source": [
    "using LaYumba.Functional;\n",
    "using static LaYumba.Functional.F;\n",
    "\n",
    "static Option<T> Lookup<T>(this IEnumerable<T> ts, Func<T, bool> pred)\n",
    "{\n",
    "    return ts\n",
    "        .Where(pred)\n",
    "        .Select(t => t is null ? None : Some(t))\n",
    "        .FirstOrDefault();\n",
    "}\n",
    "\n",
    "bool isOdd(int i) => i % 2 == 1;\n",
    "\n",
    "display(new List<int>().Lookup(isOdd));\n",
    "display(new List<int> { 1 }.Lookup(isOdd));"
   ]
  },
  {
   "cell_type": "markdown",
   "metadata": {},
   "source": [
    "## 3.\n",
    "Write a type Email that wraps an underlying string, enforcing that it’s in a valid format.\n",
    "Ensure that you include the following:\n",
    "– A smart constructor\n",
    "– Implicit conversion to string so that it can easily be used with the typical API for sending emails"
   ]
  },
  {
   "cell_type": "code",
   "execution_count": null,
   "metadata": {
    "dotnet_interactive": {
     "language": "csharp"
    },
    "vscode": {
     "languageId": "dotnet-interactive.csharp"
    }
   },
   "outputs": [],
   "source": [
    "using LaYumba.Functional;\n",
    "using static LaYumba.Functional.F;\n",
    "using System.Text.RegularExpressions;\n",
    "\n",
    "public struct Email\n",
    "{\n",
    "    static readonly Regex regex = new Regex(@\"^([\\w\\.\\-]+)@([\\w\\-]+)((\\.(\\w){2,3})+)$\");\n",
    "\n",
    "    private string Value { get; } = \"\";\n",
    "\n",
    "    public static Option<Email> Create(string s)\n",
    "        => IsValid(s)\n",
    "            ? Some(new Email(s))\n",
    "            : None;\n",
    "\n",
    "    private Email(string s)\n",
    "        => Value = s;\n",
    "\n",
    "    private static bool IsValid(string s)\n",
    "        => regex.IsMatch(s);\n",
    "\n",
    "    public static implicit operator string(Email e)\n",
    "        => e.Value;\n",
    "}\n",
    "\n",
    "Email.Create(\"invalid\").Match(\n",
    "    None: () => Console.WriteLine(\"None\"),\n",
    "    Some: (v) => Console.WriteLine(v)\n",
    ");\n",
    "\n",
    "Email.Create(\"valid@valid.com\").Match(\n",
    "    None: () => Console.WriteLine(\"None\"),\n",
    "    Some: (v) => Console.WriteLine(v)\n",
    ");"
   ]
  }
 ],
 "metadata": {
  "kernelspec": {
   "display_name": ".NET (C#)",
   "language": "C#",
   "name": ".net-csharp"
  },
  "language_info": {
   "name": "C#"
  }
 },
 "nbformat": 4,
 "nbformat_minor": 2
}

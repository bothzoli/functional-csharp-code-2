{
 "cells": [
  {
   "cell_type": "code",
   "execution_count": null,
   "metadata": {
    "dotnet_interactive": {
     "language": "csharp"
    },
    "vscode": {
     "languageId": "dotnet-interactive.csharp"
    }
   },
   "outputs": [],
   "source": [
    "#r \"nuget: LaYumba.Functional\""
   ]
  },
  {
   "cell_type": "markdown",
   "metadata": {},
   "source": [
    "# Exercises\n",
    "\n",
    "## 1.\n",
    "Write a generic Parse function that takes a string and parses it as a value of an enum.\n",
    "It should be usable as follows:\n",
    "\n",
    "```csharp\n",
    "Enum.Parse<DayOfWeek>(\"Friday\") // => Some(DayOfWeek.Friday)\n",
    "Enum.Parse<DayOfWeek>(\"Freeday\") // => None\n",
    "```"
   ]
  },
  {
   "cell_type": "code",
   "execution_count": null,
   "metadata": {
    "dotnet_interactive": {
     "language": "csharp"
    },
    "vscode": {
     "languageId": "dotnet-interactive.csharp"
    }
   },
   "outputs": [],
   "source": []
  },
  {
   "cell_type": "markdown",
   "metadata": {},
   "source": [
    "## 2.\n",
    "Write a Lookup function that takes an IEnumerable and a predicate and returns the first element in the IEnumerable that matches the predicate or None,\n",
    "if no matching element is found. Write its signature in arrow notation:\n",
    "\n",
    "```csharp\n",
    "bool isOdd(int i) => i % 2 == 1;\n",
    "new List<int>().Lookup(isOdd) // => None\n",
    "new List<int> { 1 }.Lookup(isOdd) // => Some(1)\n",
    "```"
   ]
  },
  {
   "cell_type": "code",
   "execution_count": null,
   "metadata": {
    "dotnet_interactive": {
     "language": "csharp"
    },
    "vscode": {
     "languageId": "dotnet-interactive.csharp"
    }
   },
   "outputs": [],
   "source": []
  },
  {
   "cell_type": "markdown",
   "metadata": {},
   "source": [
    "## 3.\n",
    "Write a type Email that wraps an underlying string, enforcing that it’s in a valid format.\n",
    "Ensure that you include the following:\n",
    "– A smart constructor\n",
    "– Implicit conversion to string so that it can easily be used with the typical API for sending emails"
   ]
  },
  {
   "cell_type": "code",
   "execution_count": null,
   "metadata": {
    "dotnet_interactive": {
     "language": "csharp"
    },
    "vscode": {
     "languageId": "dotnet-interactive.csharp"
    }
   },
   "outputs": [],
   "source": []
  },
  {
   "cell_type": "markdown",
   "metadata": {},
   "source": [
    "\n",
    "## 4.\n",
    "Take a look at the extension methods defined on IEnumerable in `System.LINQ.Enumerable`.\n",
    "Which ones could potentially return nothing or throw some kind of not-found exception and would, therefore, be good candidates for returning an `Option<T>` instead?"
   ]
  }
 ],
 "metadata": {
  "kernelspec": {
   "display_name": ".NET (C#)",
   "language": "C#",
   "name": ".net-csharp"
  },
  "language_info": {
   "name": "C#"
  }
 },
 "nbformat": 4,
 "nbformat_minor": 2
}
